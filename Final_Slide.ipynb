{
 "cells": [
  {
   "cell_type": "markdown",
   "id": "f0db8ee3",
   "metadata": {
    "slideshow": {
     "slide_type": "slide"
    }
   },
   "source": [
    "# Thành viên nhóm\n",
    "- Nguyễn Thanh Bình - 20133025\n",
    "- Nguyễn Nhật Triều - 20133102\n",
    "- Đoàn Quốc Trung - 20133104"
   ]
  },
  {
   "cell_type": "markdown",
   "id": "af88b998",
   "metadata": {
    "slideshow": {
     "slide_type": "slide"
    }
   },
   "source": [
    "# Giới thiệu tổng quan đề tài "
   ]
  },
  {
   "cell_type": "markdown",
   "id": "ae5f94ec",
   "metadata": {},
   "source": [
    "### 1. Đề xuất và động lực\n",
    "   - Bùng nổ dân số là một vấn đề gây nhức nhối cho các khu vực trên thế giới . Nó làm cho dân số thế giới ngày càng tăng dẫn đến tỉ lệ xảy ra các vấn đề tiêu cực xã hội ngày càng nhiều . Vì thế nhóm chúng tôi đã làm một bài phân tích về các nguyên nhân dẫn đến sự bùng nổ dân số ở các khu vực trên thế giới . Mục tiêu của bài phân tích này là so sánh các nguyên nhân gây ra bùng nổ dân số ở các khu vực trên thế giới với nhau . Thông qua đó đưa ra những kết luận về các so sánh nhằm giảm đi các nguyên nhân gây ra sự bùng nổ . "
   ]
  },
  {
   "cell_type": "markdown",
   "id": "95e2281d",
   "metadata": {
    "slideshow": {
     "slide_type": "slide"
    }
   },
   "source": [
    "![markdown](https://www.quanlynhanuoc.vn/wp-content/uploads/2021/09/4738_gia-tang-dan-so-840x450.jpg)"
   ]
  },
  {
   "cell_type": "markdown",
   "id": "fb9ad2a2",
   "metadata": {
    "slideshow": {
     "slide_type": "slide"
    }
   },
   "source": [
    "### 2. Tóm tắt và đặt ra giả thuyết"
   ]
  },
  {
   "cell_type": "markdown",
   "id": "a0c16b62",
   "metadata": {},
   "source": [
    "- Tên đề tài: Nghiên cứu về dân số ước tính hiện tại của các nước trên thế giới .\n",
    "- Nguồn tải: https://www.kaggle.com/datasets/anandhuh/countries-in-the-world-by-population-2022\n",
    "- Nguồn thu thập dữ liệu: https://worldpopulationreview.com/\n",
    "- Cách thu thập dữ liệu : Thực hiện khảo sát dân số ở từng quốc gia , từng khu vực.\n",
    "- Đặt giả thuyết:\n",
    "\n",
    "     H0 : Mật độ dân số khu vực Châu Âu nhỏ hơn Châu Phi\n",
    "     \n",
    "     H1 : Số người di cư của khu vực Bắc mỹ lớn hơn Nam mỹ\n",
    "     \n",
    "     H2 : Tỉ lệ sinh sản Châu Á lớn hơn Châu Âu"
   ]
  },
  {
   "cell_type": "markdown",
   "id": "120497d8",
   "metadata": {
    "slideshow": {
     "slide_type": "slide"
    }
   },
   "source": [
    "# Mô hình hóa và trực quan hóa dữ liệu"
   ]
  },
  {
   "cell_type": "code",
   "execution_count": 1,
   "id": "b36931c7",
   "metadata": {},
   "outputs": [
    {
     "data": {
      "text/html": [
       "<div>\n",
       "<style scoped>\n",
       "    .dataframe tbody tr th:only-of-type {\n",
       "        vertical-align: middle;\n",
       "    }\n",
       "\n",
       "    .dataframe tbody tr th {\n",
       "        vertical-align: top;\n",
       "    }\n",
       "\n",
       "    .dataframe thead th {\n",
       "        text-align: right;\n",
       "    }\n",
       "</style>\n",
       "<table border=\"1\" class=\"dataframe\">\n",
       "  <thead>\n",
       "    <tr style=\"text-align: right;\">\n",
       "      <th></th>\n",
       "      <th>Country/Other</th>\n",
       "      <th>Population (2020)</th>\n",
       "      <th>Yearly Change</th>\n",
       "      <th>Net Change</th>\n",
       "      <th>Density (P/Km²)</th>\n",
       "      <th>Land Area (Km²)</th>\n",
       "      <th>Migrants (net)</th>\n",
       "      <th>Fert. Rate</th>\n",
       "      <th>Med. Age</th>\n",
       "      <th>Urban Pop %</th>\n",
       "      <th>World Share</th>\n",
       "    </tr>\n",
       "  </thead>\n",
       "  <tbody>\n",
       "    <tr>\n",
       "      <th>0</th>\n",
       "      <td>Afghanistan</td>\n",
       "      <td>38928346</td>\n",
       "      <td>2.33</td>\n",
       "      <td>886592</td>\n",
       "      <td>60</td>\n",
       "      <td>652860</td>\n",
       "      <td>-62920</td>\n",
       "      <td>4.6</td>\n",
       "      <td>18</td>\n",
       "      <td>25.0</td>\n",
       "      <td>0.50</td>\n",
       "    </tr>\n",
       "    <tr>\n",
       "      <th>1</th>\n",
       "      <td>Albania</td>\n",
       "      <td>2877797</td>\n",
       "      <td>-0.11</td>\n",
       "      <td>-3120</td>\n",
       "      <td>105</td>\n",
       "      <td>27400</td>\n",
       "      <td>-14000</td>\n",
       "      <td>1.6</td>\n",
       "      <td>36</td>\n",
       "      <td>63.0</td>\n",
       "      <td>0.04</td>\n",
       "    </tr>\n",
       "    <tr>\n",
       "      <th>2</th>\n",
       "      <td>Algeria</td>\n",
       "      <td>43851044</td>\n",
       "      <td>1.85</td>\n",
       "      <td>797990</td>\n",
       "      <td>18</td>\n",
       "      <td>2381740</td>\n",
       "      <td>-10000</td>\n",
       "      <td>3.1</td>\n",
       "      <td>29</td>\n",
       "      <td>73.0</td>\n",
       "      <td>0.56</td>\n",
       "    </tr>\n",
       "    <tr>\n",
       "      <th>3</th>\n",
       "      <td>Angola</td>\n",
       "      <td>32866272</td>\n",
       "      <td>3.27</td>\n",
       "      <td>1040977</td>\n",
       "      <td>26</td>\n",
       "      <td>1246700</td>\n",
       "      <td>6413</td>\n",
       "      <td>5.6</td>\n",
       "      <td>17</td>\n",
       "      <td>67.0</td>\n",
       "      <td>0.42</td>\n",
       "    </tr>\n",
       "    <tr>\n",
       "      <th>4</th>\n",
       "      <td>Antigua and Barbuda</td>\n",
       "      <td>97929</td>\n",
       "      <td>0.84</td>\n",
       "      <td>811</td>\n",
       "      <td>223</td>\n",
       "      <td>440</td>\n",
       "      <td>0</td>\n",
       "      <td>2.0</td>\n",
       "      <td>34</td>\n",
       "      <td>26.0</td>\n",
       "      <td>0.00</td>\n",
       "    </tr>\n",
       "  </tbody>\n",
       "</table>\n",
       "</div>"
      ],
      "text/plain": [
       "         Country/Other  Population (2020)  Yearly Change  Net Change  \\\n",
       "0          Afghanistan           38928346           2.33      886592   \n",
       "1              Albania            2877797          -0.11       -3120   \n",
       "2              Algeria           43851044           1.85      797990   \n",
       "3               Angola           32866272           3.27     1040977   \n",
       "4  Antigua and Barbuda              97929           0.84         811   \n",
       "\n",
       "   Density (P/Km²)  Land Area (Km²)  Migrants (net)  Fert. Rate  Med. Age  \\\n",
       "0               60           652860          -62920         4.6        18   \n",
       "1              105            27400          -14000         1.6        36   \n",
       "2               18          2381740          -10000         3.1        29   \n",
       "3               26          1246700            6413         5.6        17   \n",
       "4              223              440               0         2.0        34   \n",
       "\n",
       "   Urban Pop %  World Share  \n",
       "0         25.0         0.50  \n",
       "1         63.0         0.04  \n",
       "2         73.0         0.56  \n",
       "3         67.0         0.42  \n",
       "4         26.0         0.00  "
      ]
     },
     "execution_count": 1,
     "metadata": {},
     "output_type": "execute_result"
    }
   ],
   "source": [
    "import pandas as pd\n",
    "df = pd.read_csv('world_population.csv')\n",
    "df.head(5)"
   ]
  },
  {
   "cell_type": "code",
   "execution_count": 2,
   "id": "cfb079b4",
   "metadata": {
    "slideshow": {
     "slide_type": "slide"
    }
   },
   "outputs": [
    {
     "data": {
      "text/html": [
       "<div>\n",
       "<style scoped>\n",
       "    .dataframe tbody tr th:only-of-type {\n",
       "        vertical-align: middle;\n",
       "    }\n",
       "\n",
       "    .dataframe tbody tr th {\n",
       "        vertical-align: top;\n",
       "    }\n",
       "\n",
       "    .dataframe thead th {\n",
       "        text-align: right;\n",
       "    }\n",
       "</style>\n",
       "<table border=\"1\" class=\"dataframe\">\n",
       "  <thead>\n",
       "    <tr style=\"text-align: right;\">\n",
       "      <th></th>\n",
       "      <th>Country/Other</th>\n",
       "      <th>Population (2020)</th>\n",
       "      <th>Yearly Change</th>\n",
       "      <th>Net Change</th>\n",
       "      <th>Density (P/Km²)</th>\n",
       "      <th>Land Area (Km²)</th>\n",
       "      <th>Migrants (net)</th>\n",
       "      <th>Fert. Rate</th>\n",
       "      <th>Med. Age</th>\n",
       "      <th>Urban Pop %</th>\n",
       "      <th>World Share</th>\n",
       "    </tr>\n",
       "  </thead>\n",
       "  <tbody>\n",
       "    <tr>\n",
       "      <th>195</th>\n",
       "      <td>Vietnam</td>\n",
       "      <td>97338579</td>\n",
       "      <td>0.91</td>\n",
       "      <td>876473</td>\n",
       "      <td>314</td>\n",
       "      <td>310070</td>\n",
       "      <td>-80000</td>\n",
       "      <td>2.1</td>\n",
       "      <td>32</td>\n",
       "      <td>38.0</td>\n",
       "      <td>1.25</td>\n",
       "    </tr>\n",
       "    <tr>\n",
       "      <th>196</th>\n",
       "      <td>Western Sahara</td>\n",
       "      <td>597339</td>\n",
       "      <td>2.55</td>\n",
       "      <td>14876</td>\n",
       "      <td>2</td>\n",
       "      <td>266000</td>\n",
       "      <td>5582</td>\n",
       "      <td>2.4</td>\n",
       "      <td>28</td>\n",
       "      <td>87.0</td>\n",
       "      <td>0.01</td>\n",
       "    </tr>\n",
       "    <tr>\n",
       "      <th>197</th>\n",
       "      <td>Yemen</td>\n",
       "      <td>29825964</td>\n",
       "      <td>2.28</td>\n",
       "      <td>664042</td>\n",
       "      <td>56</td>\n",
       "      <td>527970</td>\n",
       "      <td>-30000</td>\n",
       "      <td>3.8</td>\n",
       "      <td>20</td>\n",
       "      <td>38.0</td>\n",
       "      <td>0.38</td>\n",
       "    </tr>\n",
       "    <tr>\n",
       "      <th>198</th>\n",
       "      <td>Zambia</td>\n",
       "      <td>18383955</td>\n",
       "      <td>2.93</td>\n",
       "      <td>522925</td>\n",
       "      <td>25</td>\n",
       "      <td>743390</td>\n",
       "      <td>-8000</td>\n",
       "      <td>4.7</td>\n",
       "      <td>18</td>\n",
       "      <td>45.0</td>\n",
       "      <td>0.24</td>\n",
       "    </tr>\n",
       "    <tr>\n",
       "      <th>199</th>\n",
       "      <td>Zimbabwe</td>\n",
       "      <td>14862924</td>\n",
       "      <td>1.48</td>\n",
       "      <td>217456</td>\n",
       "      <td>38</td>\n",
       "      <td>386850</td>\n",
       "      <td>-116858</td>\n",
       "      <td>3.6</td>\n",
       "      <td>19</td>\n",
       "      <td>38.0</td>\n",
       "      <td>0.19</td>\n",
       "    </tr>\n",
       "  </tbody>\n",
       "</table>\n",
       "</div>"
      ],
      "text/plain": [
       "      Country/Other  Population (2020)  Yearly Change  Net Change  \\\n",
       "195         Vietnam           97338579           0.91      876473   \n",
       "196  Western Sahara             597339           2.55       14876   \n",
       "197           Yemen           29825964           2.28      664042   \n",
       "198          Zambia           18383955           2.93      522925   \n",
       "199        Zimbabwe           14862924           1.48      217456   \n",
       "\n",
       "     Density (P/Km²)  Land Area (Km²)  Migrants (net)  Fert. Rate  Med. Age  \\\n",
       "195              314           310070          -80000         2.1        32   \n",
       "196                2           266000            5582         2.4        28   \n",
       "197               56           527970          -30000         3.8        20   \n",
       "198               25           743390           -8000         4.7        18   \n",
       "199               38           386850         -116858         3.6        19   \n",
       "\n",
       "     Urban Pop %  World Share  \n",
       "195         38.0         1.25  \n",
       "196         87.0         0.01  \n",
       "197         38.0         0.38  \n",
       "198         45.0         0.24  \n",
       "199         38.0         0.19  "
      ]
     },
     "execution_count": 2,
     "metadata": {},
     "output_type": "execute_result"
    }
   ],
   "source": [
    "df.tail(5)"
   ]
  },
  {
   "cell_type": "code",
   "execution_count": 3,
   "id": "c1036cdf",
   "metadata": {
    "slideshow": {
     "slide_type": "slide"
    }
   },
   "outputs": [
    {
     "name": "stdout",
     "output_type": "stream",
     "text": [
      "Số quan sát: 200\n"
     ]
    }
   ],
   "source": [
    "print('Số quan sát:', len(df))"
   ]
  },
  {
   "cell_type": "code",
   "execution_count": 4,
   "id": "b83f198d",
   "metadata": {},
   "outputs": [
    {
     "name": "stdout",
     "output_type": "stream",
     "text": [
      "Số chiều: (200, 11)\n"
     ]
    }
   ],
   "source": [
    "print('Số chiều:', df.shape)"
   ]
  },
  {
   "cell_type": "code",
   "execution_count": 5,
   "id": "a77a3c31",
   "metadata": {
    "slideshow": {
     "slide_type": "slide"
    }
   },
   "outputs": [
    {
     "name": "stdout",
     "output_type": "stream",
     "text": [
      "<class 'pandas.core.frame.DataFrame'>\n",
      "RangeIndex: 200 entries, 0 to 199\n",
      "Data columns (total 11 columns):\n",
      " #   Column             Non-Null Count  Dtype  \n",
      "---  ------             --------------  -----  \n",
      " 0   Country/Other      200 non-null    object \n",
      " 1   Population (2020)  200 non-null    int64  \n",
      " 2   Yearly Change      200 non-null    float64\n",
      " 3   Net Change         200 non-null    int64  \n",
      " 4   Density (P/Km²)    200 non-null    int64  \n",
      " 5   Land Area (Km²)    200 non-null    int64  \n",
      " 6   Migrants (net)     200 non-null    int64  \n",
      " 7   Fert. Rate         200 non-null    float64\n",
      " 8   Med. Age           200 non-null    int64  \n",
      " 9   Urban Pop %        193 non-null    float64\n",
      " 10  World Share        200 non-null    float64\n",
      "dtypes: float64(4), int64(6), object(1)\n",
      "memory usage: 17.3+ KB\n"
     ]
    }
   ],
   "source": [
    "df.info()"
   ]
  },
  {
   "cell_type": "code",
   "execution_count": 6,
   "id": "ada5e326",
   "metadata": {
    "slideshow": {
     "slide_type": "slide"
    }
   },
   "outputs": [
    {
     "data": {
      "text/plain": [
       "35    China\n",
       "Name: Country/Other, dtype: object"
      ]
     },
     "execution_count": 6,
     "metadata": {},
     "output_type": "execute_result"
    }
   ],
   "source": [
    "# The country with the largest population\n",
    "Max=max(df['Population (2020)'])\n",
    "df[df['Population (2020)']==Max]['Country/Other']"
   ]
  },
  {
   "cell_type": "code",
   "execution_count": 7,
   "id": "fbc2c4c1",
   "metadata": {},
   "outputs": [
    {
     "data": {
      "text/plain": [
       "4    Antigua and Barbuda\n",
       "Name: Country/Other, dtype: object"
      ]
     },
     "execution_count": 7,
     "metadata": {},
     "output_type": "execute_result"
    }
   ],
   "source": [
    "#The country with the smallest population\n",
    "Min=min(df['Population (2020)'])\n",
    "df[df['Population (2020)']==Min]['Country/Other']"
   ]
  },
  {
   "cell_type": "code",
   "execution_count": 8,
   "id": "e4126d31",
   "metadata": {
    "slideshow": {
     "slide_type": "slide"
    }
   },
   "outputs": [
    {
     "data": {
      "image/png": "[encoded data removed]",
      "text/plain": [
       "<Figure size 432x288 with 1 Axes>"
      ]
     },
     "metadata": {
      "needs_background": "light"
     },
     "output_type": "display_data"
    }
   ],
   "source": [
    "# Countries with Highest Population Vis\n",
    "import matplotlib.pyplot as plt\n",
    "info = pd.DataFrame(df['Population (2020)'].sort_values(ascending=False))\n",
    "info['Country/Other'] = df['Country/Other']\n",
    "data = list(map(str,(info['Country/Other'])))\n",
    "x = list(data[:10])\n",
    "y = list(info['Population (2020)'][:10])\n",
    "plt.bar(x, y, width= 0.9, align='center',color='red', edgecolor = 'cyan')\n",
    "plt.title('Countries with Highest Population', fontdict = {'fontname':'Comic Sans MS', 'fontsize' :15})\n",
    "plt.ylabel('Population', size=10)\n",
    "plt.xticks(rotation=90)\n",
    "plt.grid(axis='y')\n",
    "\n",
    "plt.show()"
   ]
  },
  {
   "cell_type": "code",
   "execution_count": 9,
   "id": "111e0fca",
   "metadata": {
    "slideshow": {
     "slide_type": "slide"
    }
   },
   "outputs": [
    {
     "data": {
      "image/png": "[encoded data removed]",
      "text/plain": [
       "<Figure size 432x288 with 1 Axes>"
      ]
     },
     "metadata": {
      "needs_background": "light"
     },
     "output_type": "display_data"
    }
   ],
   "source": [
    "# Countries with Lowest Population Vis\n",
    "import matplotlib.pyplot as plt\n",
    "info = pd.DataFrame(df['Population (2020)'].sort_values(ascending=True))\n",
    "info['Country/Other'] = df['Country/Other']\n",
    "data = list(map(str,(info['Country/Other'])))\n",
    "x = list(data[:10])\n",
    "y = list(info['Population (2020)'][:10])\n",
    "plt.bar(x, y, width= 0.9, align='center',color='red', edgecolor = 'cyan')\n",
    "plt.title('Countries with Lowest Population', fontdict = {'fontname':'Comic Sans MS', 'fontsize' :15})\n",
    "plt.ylabel('Population', size=10)\n",
    "plt.xticks(rotation=90)\n",
    "plt.grid(axis='y')\n",
    "\n",
    "plt.show()"
   ]
  },
  {
   "cell_type": "code",
   "execution_count": 15,
   "id": "6cdf73af",
   "metadata": {
    "slideshow": {
     "slide_type": "slide"
    }
   },
   "outputs": [
    {
     "data": {
      "image/png": "[encoded data removed]",
      "text/plain": [
       "<Figure size 1440x720 with 1 Axes>"
      ]
     },
     "metadata": {},
     "output_type": "display_data"
    }
   ],
   "source": [
    "# Top 10 Countries per Density (P/Km²)\n",
    "import seaborn as sns\n",
    "info = pd.DataFrame(df['Density (P/Km²)'].sort_values(ascending=False))\n",
    "info['Country/Other'] = df['Country/Other']\n",
    "data = list(map(str,(info['Country/Other'])))\n",
    "x = list(data[:10])\n",
    "y = list(info['Density (P/Km²)'][:10])\n",
    "\n",
    "ax = sns.barplot(x=y,y=x, saturation = 1, palette = 'icefire')\n",
    "\n",
    "sns.set(rc={'figure.figsize':(20,10)})\n",
    "ax.set_title('Top 10 Countries per Density (P/Km²)', fontsize = 20)\n",
    "ax.set_xlabel('Density (P/KmÂ²)',fontsize = 20)\n",
    "sns.set_style('darkgrid')"
   ]
  },
  {
   "cell_type": "code",
   "execution_count": 16,
   "id": "853d8d21",
   "metadata": {
    "slideshow": {
     "slide_type": "slide"
    }
   },
   "outputs": [
    {
     "data": {
      "image/png": "[encoded data removed]",
      "text/plain": [
       "<Figure size 1440x720 with 1 Axes>"
      ]
     },
     "metadata": {},
     "output_type": "display_data"
    }
   ],
   "source": [
    "# Median Age of Country/Other (Histogram Plot)\n",
    "plt.hist(df['Med. Age'], bins=30,color='cyan', edgecolor = 'red',alpha=0.75)\n",
    "plt.axvline(df['Med. Age'].mean(), color='red', linestyle='dashed', linewidth=1)\n",
    "plt.xlabel('Median Age', size=10)\n",
    "plt.ylabel('Total', size=10)\n",
    "plt.title('Histogram of Median Age', fontdict = {'fontname':'Comic Sans MS', 'fontsize' :15})\n",
    "min_ylim, max_ylim = plt.ylim()\n",
    "plt.text(df['Med. Age'].mean()*1.02, max_ylim*0.8, 'Mean: {:.2f}'.format(df['Med. Age'].mean()))\n",
    "\n",
    "plt.show()"
   ]
  },
  {
   "cell_type": "code",
   "execution_count": 17,
   "id": "9375e08d",
   "metadata": {
    "slideshow": {
     "slide_type": "slide"
    }
   },
   "outputs": [
    {
     "data": {
      "image/png": "[encoded data removed]",
      "text/plain": [
       "<Figure size 1440x720 with 1 Axes>"
      ]
     },
     "metadata": {},
     "output_type": "display_data"
    }
   ],
   "source": [
    "info = pd.DataFrame(df['Migrants (net)'].sort_values(ascending=False))\n",
    "info['Country/Other'] = df['Country/Other']\n",
    "data = list(map(str,(info['Country/Other'])))\n",
    "x = list(data[:10])\n",
    "y = list(info['Migrants (net)'][:10])\n",
    "\n",
    "ax = sns.barplot(x=y,y=x, saturation = 1, palette = 'icefire')\n",
    "\n",
    "sns.set(rc={'figure.figsize':(20,10)})\n",
    "ax.set_title('Top 10 Countries per Migrants', fontsize = 30)\n",
    "ax.set_xlabel('Migrants',fontsize = 20)\n",
    "sns.set_style('darkgrid')"
   ]
  },
  {
   "cell_type": "code",
   "execution_count": 13,
   "id": "dc548db7",
   "metadata": {
    "slideshow": {
     "slide_type": "slide"
    }
   },
   "outputs": [
    {
     "data": {
      "image/png": "[encoded data removed]",
      "text/plain": [
       "<Figure size 1440x720 with 1 Axes>"
      ]
     },
     "metadata": {},
     "output_type": "display_data"
    }
   ],
   "source": [
    "info = pd.DataFrame(df['Fert. Rate'].sort_values(ascending=False))\n",
    "info['Country/Other'] = df['Country/Other']\n",
    "data = list(map(str,(info['Country/Other'])))\n",
    "x = list(data[:10])\n",
    "y = list(info['Fert. Rate'][:10])\n",
    "\n",
    "ax = sns.barplot(x=y,y=x, saturation = 1, palette = 'icefire')\n",
    "\n",
    "sns.set(rc={'figure.figsize':(20,10)})\n",
    "ax.set_title('Top 10 Countries per Migrants', fontsize = 30)\n",
    "ax.set_xlabel('Migrants',fontsize = 20)\n",
    "sns.set_style('darkgrid')"
   ]
  },
  {
   "cell_type": "markdown",
   "id": "e659629f",
   "metadata": {
    "slideshow": {
     "slide_type": "slide"
    }
   },
   "source": [
    "# Thống kê và chứng minh giả thuyết"
   ]
  },
  {
   "cell_type": "markdown",
   "id": "b90df782",
   "metadata": {
    "slideshow": {
     "slide_type": "slide"
    }
   },
   "source": [
    "### Bước 1. Tải dữ liệu "
   ]
  },
  {
   "cell_type": "code",
   "execution_count": 236,
   "id": "faac81f3",
   "metadata": {},
   "outputs": [
    {
     "data": {
      "text/html": [
       "<div>\n",
       "<style scoped>\n",
       "    .dataframe tbody tr th:only-of-type {\n",
       "        vertical-align: middle;\n",
       "    }\n",
       "\n",
       "    .dataframe tbody tr th {\n",
       "        vertical-align: top;\n",
       "    }\n",
       "\n",
       "    .dataframe thead th {\n",
       "        text-align: right;\n",
       "    }\n",
       "</style>\n",
       "<table border=\"1\" class=\"dataframe\">\n",
       "  <thead>\n",
       "    <tr style=\"text-align: right;\">\n",
       "      <th></th>\n",
       "      <th>Country/Other</th>\n",
       "      <th>Population (2020)</th>\n",
       "      <th>Yearly Change</th>\n",
       "      <th>Net Change</th>\n",
       "      <th>Density (P/KmÂ²)</th>\n",
       "      <th>Land Area (KmÂ²)</th>\n",
       "      <th>Migrants (net)</th>\n",
       "      <th>Fert. Rate</th>\n",
       "      <th>Med. Age</th>\n",
       "      <th>Urban Pop %</th>\n",
       "      <th>World Share</th>\n",
       "      <th>Area</th>\n",
       "    </tr>\n",
       "  </thead>\n",
       "  <tbody>\n",
       "    <tr>\n",
       "      <th>0</th>\n",
       "      <td>Argentina</td>\n",
       "      <td>45195774</td>\n",
       "      <td>0.93</td>\n",
       "      <td>415097</td>\n",
       "      <td>17</td>\n",
       "      <td>2736690</td>\n",
       "      <td>4800</td>\n",
       "      <td>2.3</td>\n",
       "      <td>32</td>\n",
       "      <td>93.0</td>\n",
       "      <td>0.58</td>\n",
       "      <td>South American</td>\n",
       "    </tr>\n",
       "    <tr>\n",
       "      <th>1</th>\n",
       "      <td>Venezuela</td>\n",
       "      <td>28435940</td>\n",
       "      <td>-0.28</td>\n",
       "      <td>-79889</td>\n",
       "      <td>32</td>\n",
       "      <td>882050</td>\n",
       "      <td>-653249</td>\n",
       "      <td>2.3</td>\n",
       "      <td>30</td>\n",
       "      <td>NaN</td>\n",
       "      <td>0.36</td>\n",
       "      <td>South American</td>\n",
       "    </tr>\n",
       "    <tr>\n",
       "      <th>2</th>\n",
       "      <td>Brazil</td>\n",
       "      <td>212559417</td>\n",
       "      <td>0.72</td>\n",
       "      <td>1509890</td>\n",
       "      <td>25</td>\n",
       "      <td>8358140</td>\n",
       "      <td>21200</td>\n",
       "      <td>1.7</td>\n",
       "      <td>33</td>\n",
       "      <td>88.0</td>\n",
       "      <td>2.73</td>\n",
       "      <td>South American</td>\n",
       "    </tr>\n",
       "    <tr>\n",
       "      <th>3</th>\n",
       "      <td>Bolivia</td>\n",
       "      <td>11673021</td>\n",
       "      <td>1.39</td>\n",
       "      <td>159921</td>\n",
       "      <td>11</td>\n",
       "      <td>1083300</td>\n",
       "      <td>-9504</td>\n",
       "      <td>2.8</td>\n",
       "      <td>26</td>\n",
       "      <td>69.0</td>\n",
       "      <td>0.15</td>\n",
       "      <td>South American</td>\n",
       "    </tr>\n",
       "    <tr>\n",
       "      <th>4</th>\n",
       "      <td>Chile</td>\n",
       "      <td>19116201</td>\n",
       "      <td>0.87</td>\n",
       "      <td>164163</td>\n",
       "      <td>26</td>\n",
       "      <td>743532</td>\n",
       "      <td>111708</td>\n",
       "      <td>1.7</td>\n",
       "      <td>35</td>\n",
       "      <td>85.0</td>\n",
       "      <td>0.25</td>\n",
       "      <td>South American</td>\n",
       "    </tr>\n",
       "    <tr>\n",
       "      <th>5</th>\n",
       "      <td>Colombia</td>\n",
       "      <td>50882891</td>\n",
       "      <td>1.08</td>\n",
       "      <td>543448</td>\n",
       "      <td>46</td>\n",
       "      <td>1109500</td>\n",
       "      <td>204796</td>\n",
       "      <td>1.8</td>\n",
       "      <td>31</td>\n",
       "      <td>80.0</td>\n",
       "      <td>0.65</td>\n",
       "      <td>South American</td>\n",
       "    </tr>\n",
       "    <tr>\n",
       "      <th>6</th>\n",
       "      <td>Ecuador</td>\n",
       "      <td>17643054</td>\n",
       "      <td>1.55</td>\n",
       "      <td>269392</td>\n",
       "      <td>71</td>\n",
       "      <td>248360</td>\n",
       "      <td>36400</td>\n",
       "      <td>2.4</td>\n",
       "      <td>28</td>\n",
       "      <td>63.0</td>\n",
       "      <td>0.23</td>\n",
       "      <td>South American</td>\n",
       "    </tr>\n",
       "    <tr>\n",
       "      <th>7</th>\n",
       "      <td>Guyana</td>\n",
       "      <td>786552</td>\n",
       "      <td>0.48</td>\n",
       "      <td>3786</td>\n",
       "      <td>4</td>\n",
       "      <td>196850</td>\n",
       "      <td>-6000</td>\n",
       "      <td>2.5</td>\n",
       "      <td>27</td>\n",
       "      <td>27.0</td>\n",
       "      <td>0.01</td>\n",
       "      <td>South American</td>\n",
       "    </tr>\n",
       "    <tr>\n",
       "      <th>8</th>\n",
       "      <td>Peru</td>\n",
       "      <td>32971854</td>\n",
       "      <td>1.42</td>\n",
       "      <td>461401</td>\n",
       "      <td>26</td>\n",
       "      <td>1280000</td>\n",
       "      <td>99069</td>\n",
       "      <td>2.3</td>\n",
       "      <td>31</td>\n",
       "      <td>79.0</td>\n",
       "      <td>0.42</td>\n",
       "      <td>South American</td>\n",
       "    </tr>\n",
       "    <tr>\n",
       "      <th>9</th>\n",
       "      <td>Guinea</td>\n",
       "      <td>13132795</td>\n",
       "      <td>2.83</td>\n",
       "      <td>361549</td>\n",
       "      <td>53</td>\n",
       "      <td>245720</td>\n",
       "      <td>-4000</td>\n",
       "      <td>4.7</td>\n",
       "      <td>18</td>\n",
       "      <td>39.0</td>\n",
       "      <td>0.17</td>\n",
       "      <td>South American</td>\n",
       "    </tr>\n",
       "    <tr>\n",
       "      <th>10</th>\n",
       "      <td>Paraguay</td>\n",
       "      <td>7132538</td>\n",
       "      <td>1.25</td>\n",
       "      <td>87902</td>\n",
       "      <td>18</td>\n",
       "      <td>397300</td>\n",
       "      <td>-16556</td>\n",
       "      <td>2.4</td>\n",
       "      <td>26</td>\n",
       "      <td>62.0</td>\n",
       "      <td>0.09</td>\n",
       "      <td>South American</td>\n",
       "    </tr>\n",
       "    <tr>\n",
       "      <th>11</th>\n",
       "      <td>Suriname</td>\n",
       "      <td>586632</td>\n",
       "      <td>0.90</td>\n",
       "      <td>5260</td>\n",
       "      <td>4</td>\n",
       "      <td>156000</td>\n",
       "      <td>-1000</td>\n",
       "      <td>2.4</td>\n",
       "      <td>29</td>\n",
       "      <td>65.0</td>\n",
       "      <td>0.01</td>\n",
       "      <td>South American</td>\n",
       "    </tr>\n",
       "    <tr>\n",
       "      <th>12</th>\n",
       "      <td>Uruguay</td>\n",
       "      <td>3473730</td>\n",
       "      <td>0.35</td>\n",
       "      <td>11996</td>\n",
       "      <td>20</td>\n",
       "      <td>175020</td>\n",
       "      <td>-3000</td>\n",
       "      <td>2.0</td>\n",
       "      <td>36</td>\n",
       "      <td>96.0</td>\n",
       "      <td>0.04</td>\n",
       "      <td>South American</td>\n",
       "    </tr>\n",
       "    <tr>\n",
       "      <th>13</th>\n",
       "      <td>Antigua and Barbuda</td>\n",
       "      <td>97929</td>\n",
       "      <td>0.84</td>\n",
       "      <td>811</td>\n",
       "      <td>223</td>\n",
       "      <td>440</td>\n",
       "      <td>0</td>\n",
       "      <td>2.0</td>\n",
       "      <td>34</td>\n",
       "      <td>26.0</td>\n",
       "      <td>0.00</td>\n",
       "      <td>North American</td>\n",
       "    </tr>\n",
       "    <tr>\n",
       "      <th>14</th>\n",
       "      <td>Aruba</td>\n",
       "      <td>106766</td>\n",
       "      <td>0.43</td>\n",
       "      <td>452</td>\n",
       "      <td>593</td>\n",
       "      <td>180</td>\n",
       "      <td>201</td>\n",
       "      <td>1.9</td>\n",
       "      <td>41</td>\n",
       "      <td>44.0</td>\n",
       "      <td>0.00</td>\n",
       "      <td>North American</td>\n",
       "    </tr>\n",
       "    <tr>\n",
       "      <th>15</th>\n",
       "      <td>Bahamas</td>\n",
       "      <td>393244</td>\n",
       "      <td>0.97</td>\n",
       "      <td>3762</td>\n",
       "      <td>39</td>\n",
       "      <td>10010</td>\n",
       "      <td>1000</td>\n",
       "      <td>1.8</td>\n",
       "      <td>32</td>\n",
       "      <td>86.0</td>\n",
       "      <td>0.01</td>\n",
       "      <td>North American</td>\n",
       "    </tr>\n",
       "    <tr>\n",
       "      <th>16</th>\n",
       "      <td>Barbados</td>\n",
       "      <td>287375</td>\n",
       "      <td>0.12</td>\n",
       "      <td>350</td>\n",
       "      <td>668</td>\n",
       "      <td>430</td>\n",
       "      <td>-79</td>\n",
       "      <td>1.6</td>\n",
       "      <td>40</td>\n",
       "      <td>31.0</td>\n",
       "      <td>0.00</td>\n",
       "      <td>North American</td>\n",
       "    </tr>\n",
       "    <tr>\n",
       "      <th>17</th>\n",
       "      <td>Belize</td>\n",
       "      <td>397628</td>\n",
       "      <td>1.86</td>\n",
       "      <td>7275</td>\n",
       "      <td>17</td>\n",
       "      <td>22810</td>\n",
       "      <td>1200</td>\n",
       "      <td>2.3</td>\n",
       "      <td>25</td>\n",
       "      <td>46.0</td>\n",
       "      <td>0.01</td>\n",
       "      <td>North American</td>\n",
       "    </tr>\n",
       "    <tr>\n",
       "      <th>18</th>\n",
       "      <td>Canada</td>\n",
       "      <td>37742154</td>\n",
       "      <td>0.89</td>\n",
       "      <td>331107</td>\n",
       "      <td>4</td>\n",
       "      <td>9093510</td>\n",
       "      <td>242032</td>\n",
       "      <td>1.5</td>\n",
       "      <td>41</td>\n",
       "      <td>81.0</td>\n",
       "      <td>0.48</td>\n",
       "      <td>North American</td>\n",
       "    </tr>\n",
       "    <tr>\n",
       "      <th>19</th>\n",
       "      <td>Costa Rica</td>\n",
       "      <td>5094118</td>\n",
       "      <td>0.92</td>\n",
       "      <td>46557</td>\n",
       "      <td>100</td>\n",
       "      <td>51060</td>\n",
       "      <td>4200</td>\n",
       "      <td>1.8</td>\n",
       "      <td>33</td>\n",
       "      <td>80.0</td>\n",
       "      <td>0.07</td>\n",
       "      <td>North American</td>\n",
       "    </tr>\n",
       "    <tr>\n",
       "      <th>20</th>\n",
       "      <td>Cuba</td>\n",
       "      <td>11326616</td>\n",
       "      <td>-0.06</td>\n",
       "      <td>-6867</td>\n",
       "      <td>106</td>\n",
       "      <td>106440</td>\n",
       "      <td>-14400</td>\n",
       "      <td>1.6</td>\n",
       "      <td>42</td>\n",
       "      <td>78.0</td>\n",
       "      <td>0.15</td>\n",
       "      <td>North American</td>\n",
       "    </tr>\n",
       "    <tr>\n",
       "      <th>21</th>\n",
       "      <td>Curacao</td>\n",
       "      <td>164093</td>\n",
       "      <td>0.41</td>\n",
       "      <td>669</td>\n",
       "      <td>370</td>\n",
       "      <td>444</td>\n",
       "      <td>515</td>\n",
       "      <td>1.8</td>\n",
       "      <td>42</td>\n",
       "      <td>89.0</td>\n",
       "      <td>0.00</td>\n",
       "      <td>North American</td>\n",
       "    </tr>\n",
       "    <tr>\n",
       "      <th>22</th>\n",
       "      <td>Dominican Republic</td>\n",
       "      <td>10847910</td>\n",
       "      <td>1.01</td>\n",
       "      <td>108952</td>\n",
       "      <td>225</td>\n",
       "      <td>48320</td>\n",
       "      <td>-30000</td>\n",
       "      <td>2.4</td>\n",
       "      <td>28</td>\n",
       "      <td>85.0</td>\n",
       "      <td>0.14</td>\n",
       "      <td>North American</td>\n",
       "    </tr>\n",
       "    <tr>\n",
       "      <th>23</th>\n",
       "      <td>El Salvador</td>\n",
       "      <td>6486205</td>\n",
       "      <td>0.51</td>\n",
       "      <td>32652</td>\n",
       "      <td>313</td>\n",
       "      <td>20720</td>\n",
       "      <td>-40539</td>\n",
       "      <td>2.1</td>\n",
       "      <td>28</td>\n",
       "      <td>73.0</td>\n",
       "      <td>0.08</td>\n",
       "      <td>North American</td>\n",
       "    </tr>\n",
       "    <tr>\n",
       "      <th>24</th>\n",
       "      <td>Greece</td>\n",
       "      <td>10423054</td>\n",
       "      <td>-0.48</td>\n",
       "      <td>-50401</td>\n",
       "      <td>81</td>\n",
       "      <td>128900</td>\n",
       "      <td>-16000</td>\n",
       "      <td>1.3</td>\n",
       "      <td>46</td>\n",
       "      <td>85.0</td>\n",
       "      <td>0.13</td>\n",
       "      <td>North American</td>\n",
       "    </tr>\n",
       "    <tr>\n",
       "      <th>25</th>\n",
       "      <td>Guadeloupe</td>\n",
       "      <td>400124</td>\n",
       "      <td>0.02</td>\n",
       "      <td>68</td>\n",
       "      <td>237</td>\n",
       "      <td>1690</td>\n",
       "      <td>-1440</td>\n",
       "      <td>2.2</td>\n",
       "      <td>44</td>\n",
       "      <td>NaN</td>\n",
       "      <td>0.01</td>\n",
       "      <td>North American</td>\n",
       "    </tr>\n",
       "    <tr>\n",
       "      <th>26</th>\n",
       "      <td>Guatemala</td>\n",
       "      <td>17915568</td>\n",
       "      <td>1.90</td>\n",
       "      <td>334096</td>\n",
       "      <td>167</td>\n",
       "      <td>107160</td>\n",
       "      <td>-9215</td>\n",
       "      <td>2.9</td>\n",
       "      <td>23</td>\n",
       "      <td>52.0</td>\n",
       "      <td>0.23</td>\n",
       "      <td>North American</td>\n",
       "    </tr>\n",
       "    <tr>\n",
       "      <th>27</th>\n",
       "      <td>Haiti</td>\n",
       "      <td>11402528</td>\n",
       "      <td>1.24</td>\n",
       "      <td>139451</td>\n",
       "      <td>414</td>\n",
       "      <td>27560</td>\n",
       "      <td>-35000</td>\n",
       "      <td>3.0</td>\n",
       "      <td>24</td>\n",
       "      <td>57.0</td>\n",
       "      <td>0.15</td>\n",
       "      <td>North American</td>\n",
       "    </tr>\n",
       "    <tr>\n",
       "      <th>28</th>\n",
       "      <td>Honduras</td>\n",
       "      <td>9904607</td>\n",
       "      <td>1.63</td>\n",
       "      <td>158490</td>\n",
       "      <td>89</td>\n",
       "      <td>111890</td>\n",
       "      <td>-6800</td>\n",
       "      <td>2.5</td>\n",
       "      <td>24</td>\n",
       "      <td>57.0</td>\n",
       "      <td>0.13</td>\n",
       "      <td>North American</td>\n",
       "    </tr>\n",
       "    <tr>\n",
       "      <th>29</th>\n",
       "      <td>Jamaica</td>\n",
       "      <td>2961167</td>\n",
       "      <td>0.44</td>\n",
       "      <td>12888</td>\n",
       "      <td>273</td>\n",
       "      <td>10830</td>\n",
       "      <td>-11332</td>\n",
       "      <td>2.0</td>\n",
       "      <td>31</td>\n",
       "      <td>55.0</td>\n",
       "      <td>0.04</td>\n",
       "      <td>North American</td>\n",
       "    </tr>\n",
       "    <tr>\n",
       "      <th>...</th>\n",
       "      <td>...</td>\n",
       "      <td>...</td>\n",
       "      <td>...</td>\n",
       "      <td>...</td>\n",
       "      <td>...</td>\n",
       "      <td>...</td>\n",
       "      <td>...</td>\n",
       "      <td>...</td>\n",
       "      <td>...</td>\n",
       "      <td>...</td>\n",
       "      <td>...</td>\n",
       "      <td>...</td>\n",
       "    </tr>\n",
       "    <tr>\n",
       "      <th>70</th>\n",
       "      <td>Mongolia</td>\n",
       "      <td>3278290</td>\n",
       "      <td>1.65</td>\n",
       "      <td>53123</td>\n",
       "      <td>2</td>\n",
       "      <td>1553560</td>\n",
       "      <td>-852</td>\n",
       "      <td>2.9</td>\n",
       "      <td>28</td>\n",
       "      <td>67.0</td>\n",
       "      <td>0.04</td>\n",
       "      <td>Asian</td>\n",
       "    </tr>\n",
       "    <tr>\n",
       "      <th>71</th>\n",
       "      <td>Myanmar</td>\n",
       "      <td>54409800</td>\n",
       "      <td>0.67</td>\n",
       "      <td>364380</td>\n",
       "      <td>83</td>\n",
       "      <td>653290</td>\n",
       "      <td>-163313</td>\n",
       "      <td>2.2</td>\n",
       "      <td>29</td>\n",
       "      <td>31.0</td>\n",
       "      <td>0.70</td>\n",
       "      <td>Asian</td>\n",
       "    </tr>\n",
       "    <tr>\n",
       "      <th>72</th>\n",
       "      <td>Nepal</td>\n",
       "      <td>29136808</td>\n",
       "      <td>1.85</td>\n",
       "      <td>528098</td>\n",
       "      <td>203</td>\n",
       "      <td>143350</td>\n",
       "      <td>41710</td>\n",
       "      <td>1.9</td>\n",
       "      <td>25</td>\n",
       "      <td>21.0</td>\n",
       "      <td>0.37</td>\n",
       "      <td>Asian</td>\n",
       "    </tr>\n",
       "    <tr>\n",
       "      <th>73</th>\n",
       "      <td>North Korea</td>\n",
       "      <td>25778816</td>\n",
       "      <td>0.44</td>\n",
       "      <td>112655</td>\n",
       "      <td>214</td>\n",
       "      <td>120410</td>\n",
       "      <td>-5403</td>\n",
       "      <td>1.9</td>\n",
       "      <td>35</td>\n",
       "      <td>63.0</td>\n",
       "      <td>0.33</td>\n",
       "      <td>Asian</td>\n",
       "    </tr>\n",
       "    <tr>\n",
       "      <th>74</th>\n",
       "      <td>Philippines</td>\n",
       "      <td>109581078</td>\n",
       "      <td>1.35</td>\n",
       "      <td>1464463</td>\n",
       "      <td>368</td>\n",
       "      <td>298170</td>\n",
       "      <td>-67152</td>\n",
       "      <td>2.6</td>\n",
       "      <td>26</td>\n",
       "      <td>47.0</td>\n",
       "      <td>1.41</td>\n",
       "      <td>Asian</td>\n",
       "    </tr>\n",
       "    <tr>\n",
       "      <th>75</th>\n",
       "      <td>Singapore</td>\n",
       "      <td>5850342</td>\n",
       "      <td>0.79</td>\n",
       "      <td>46005</td>\n",
       "      <td>8358</td>\n",
       "      <td>700</td>\n",
       "      <td>27028</td>\n",
       "      <td>1.2</td>\n",
       "      <td>42</td>\n",
       "      <td>NaN</td>\n",
       "      <td>0.08</td>\n",
       "      <td>Asian</td>\n",
       "    </tr>\n",
       "    <tr>\n",
       "      <th>76</th>\n",
       "      <td>South Korea</td>\n",
       "      <td>51269185</td>\n",
       "      <td>0.09</td>\n",
       "      <td>43877</td>\n",
       "      <td>527</td>\n",
       "      <td>97230</td>\n",
       "      <td>11731</td>\n",
       "      <td>1.1</td>\n",
       "      <td>44</td>\n",
       "      <td>82.0</td>\n",
       "      <td>0.66</td>\n",
       "      <td>Asian</td>\n",
       "    </tr>\n",
       "    <tr>\n",
       "      <th>77</th>\n",
       "      <td>Thailand</td>\n",
       "      <td>69799978</td>\n",
       "      <td>0.25</td>\n",
       "      <td>174396</td>\n",
       "      <td>137</td>\n",
       "      <td>510890</td>\n",
       "      <td>19444</td>\n",
       "      <td>1.5</td>\n",
       "      <td>40</td>\n",
       "      <td>51.0</td>\n",
       "      <td>0.90</td>\n",
       "      <td>Asian</td>\n",
       "    </tr>\n",
       "    <tr>\n",
       "      <th>78</th>\n",
       "      <td>Vietnam</td>\n",
       "      <td>97338579</td>\n",
       "      <td>0.91</td>\n",
       "      <td>876473</td>\n",
       "      <td>314</td>\n",
       "      <td>310070</td>\n",
       "      <td>-80000</td>\n",
       "      <td>2.1</td>\n",
       "      <td>32</td>\n",
       "      <td>38.0</td>\n",
       "      <td>1.25</td>\n",
       "      <td>Asian</td>\n",
       "    </tr>\n",
       "    <tr>\n",
       "      <th>79</th>\n",
       "      <td>Algeria</td>\n",
       "      <td>43851044</td>\n",
       "      <td>1.85</td>\n",
       "      <td>797990</td>\n",
       "      <td>18</td>\n",
       "      <td>2381740</td>\n",
       "      <td>-10000</td>\n",
       "      <td>3.1</td>\n",
       "      <td>29</td>\n",
       "      <td>73.0</td>\n",
       "      <td>0.56</td>\n",
       "      <td>Africal</td>\n",
       "    </tr>\n",
       "    <tr>\n",
       "      <th>80</th>\n",
       "      <td>Angola</td>\n",
       "      <td>32866272</td>\n",
       "      <td>3.27</td>\n",
       "      <td>1040977</td>\n",
       "      <td>26</td>\n",
       "      <td>1246700</td>\n",
       "      <td>6413</td>\n",
       "      <td>5.6</td>\n",
       "      <td>17</td>\n",
       "      <td>67.0</td>\n",
       "      <td>0.42</td>\n",
       "      <td>Africal</td>\n",
       "    </tr>\n",
       "    <tr>\n",
       "      <th>81</th>\n",
       "      <td>Togo</td>\n",
       "      <td>8278724</td>\n",
       "      <td>2.43</td>\n",
       "      <td>196358</td>\n",
       "      <td>152</td>\n",
       "      <td>54390</td>\n",
       "      <td>-2000</td>\n",
       "      <td>4.4</td>\n",
       "      <td>19</td>\n",
       "      <td>43.0</td>\n",
       "      <td>0.11</td>\n",
       "      <td>Africal</td>\n",
       "    </tr>\n",
       "    <tr>\n",
       "      <th>82</th>\n",
       "      <td>Libya</td>\n",
       "      <td>6871292</td>\n",
       "      <td>1.38</td>\n",
       "      <td>93840</td>\n",
       "      <td>4</td>\n",
       "      <td>1759540</td>\n",
       "      <td>-1999</td>\n",
       "      <td>2.3</td>\n",
       "      <td>29</td>\n",
       "      <td>78.0</td>\n",
       "      <td>0.09</td>\n",
       "      <td>Africal</td>\n",
       "    </tr>\n",
       "    <tr>\n",
       "      <th>83</th>\n",
       "      <td>Liberia</td>\n",
       "      <td>5057681</td>\n",
       "      <td>2.44</td>\n",
       "      <td>120307</td>\n",
       "      <td>53</td>\n",
       "      <td>96320</td>\n",
       "      <td>-5000</td>\n",
       "      <td>4.4</td>\n",
       "      <td>19</td>\n",
       "      <td>53.0</td>\n",
       "      <td>0.06</td>\n",
       "      <td>Africal</td>\n",
       "    </tr>\n",
       "    <tr>\n",
       "      <th>84</th>\n",
       "      <td>Angola</td>\n",
       "      <td>32866272</td>\n",
       "      <td>3.27</td>\n",
       "      <td>1040977</td>\n",
       "      <td>26</td>\n",
       "      <td>1246700</td>\n",
       "      <td>6413</td>\n",
       "      <td>5.6</td>\n",
       "      <td>17</td>\n",
       "      <td>67.0</td>\n",
       "      <td>0.42</td>\n",
       "      <td>Africal</td>\n",
       "    </tr>\n",
       "    <tr>\n",
       "      <th>85</th>\n",
       "      <td>Tunisia</td>\n",
       "      <td>11818619</td>\n",
       "      <td>1.06</td>\n",
       "      <td>123900</td>\n",
       "      <td>76</td>\n",
       "      <td>155360</td>\n",
       "      <td>-4000</td>\n",
       "      <td>2.2</td>\n",
       "      <td>33</td>\n",
       "      <td>70.0</td>\n",
       "      <td>0.15</td>\n",
       "      <td>Africal</td>\n",
       "    </tr>\n",
       "    <tr>\n",
       "      <th>86</th>\n",
       "      <td>Egypt</td>\n",
       "      <td>102334404</td>\n",
       "      <td>1.94</td>\n",
       "      <td>1946331</td>\n",
       "      <td>103</td>\n",
       "      <td>995450</td>\n",
       "      <td>-38033</td>\n",
       "      <td>3.3</td>\n",
       "      <td>25</td>\n",
       "      <td>43.0</td>\n",
       "      <td>1.31</td>\n",
       "      <td>Africal</td>\n",
       "    </tr>\n",
       "    <tr>\n",
       "      <th>87</th>\n",
       "      <td>Seychelles</td>\n",
       "      <td>98347</td>\n",
       "      <td>0.62</td>\n",
       "      <td>608</td>\n",
       "      <td>214</td>\n",
       "      <td>460</td>\n",
       "      <td>-200</td>\n",
       "      <td>2.5</td>\n",
       "      <td>34</td>\n",
       "      <td>56.0</td>\n",
       "      <td>0.00</td>\n",
       "      <td>Africal</td>\n",
       "    </tr>\n",
       "    <tr>\n",
       "      <th>88</th>\n",
       "      <td>South Sudan</td>\n",
       "      <td>11193725</td>\n",
       "      <td>1.19</td>\n",
       "      <td>131612</td>\n",
       "      <td>18</td>\n",
       "      <td>610952</td>\n",
       "      <td>-174200</td>\n",
       "      <td>4.7</td>\n",
       "      <td>19</td>\n",
       "      <td>25.0</td>\n",
       "      <td>0.14</td>\n",
       "      <td>Africal</td>\n",
       "    </tr>\n",
       "    <tr>\n",
       "      <th>89</th>\n",
       "      <td>Sudan</td>\n",
       "      <td>43849260</td>\n",
       "      <td>2.42</td>\n",
       "      <td>1036022</td>\n",
       "      <td>25</td>\n",
       "      <td>1765048</td>\n",
       "      <td>-50000</td>\n",
       "      <td>4.4</td>\n",
       "      <td>20</td>\n",
       "      <td>35.0</td>\n",
       "      <td>0.56</td>\n",
       "      <td>Africal</td>\n",
       "    </tr>\n",
       "    <tr>\n",
       "      <th>90</th>\n",
       "      <td>Congo</td>\n",
       "      <td>5518087</td>\n",
       "      <td>2.56</td>\n",
       "      <td>137579</td>\n",
       "      <td>16</td>\n",
       "      <td>341500</td>\n",
       "      <td>-4000</td>\n",
       "      <td>4.5</td>\n",
       "      <td>19</td>\n",
       "      <td>70.0</td>\n",
       "      <td>0.07</td>\n",
       "      <td>Africal</td>\n",
       "    </tr>\n",
       "    <tr>\n",
       "      <th>91</th>\n",
       "      <td>DR Congo</td>\n",
       "      <td>89561403</td>\n",
       "      <td>3.19</td>\n",
       "      <td>2770836</td>\n",
       "      <td>40</td>\n",
       "      <td>2267050</td>\n",
       "      <td>23861</td>\n",
       "      <td>6.0</td>\n",
       "      <td>17</td>\n",
       "      <td>46.0</td>\n",
       "      <td>1.15</td>\n",
       "      <td>Africal</td>\n",
       "    </tr>\n",
       "    <tr>\n",
       "      <th>92</th>\n",
       "      <td>Uganda</td>\n",
       "      <td>45741007</td>\n",
       "      <td>3.32</td>\n",
       "      <td>1471413</td>\n",
       "      <td>229</td>\n",
       "      <td>199810</td>\n",
       "      <td>168694</td>\n",
       "      <td>5.0</td>\n",
       "      <td>17</td>\n",
       "      <td>26.0</td>\n",
       "      <td>0.59</td>\n",
       "      <td>Africal</td>\n",
       "    </tr>\n",
       "    <tr>\n",
       "      <th>93</th>\n",
       "      <td>Eritrea</td>\n",
       "      <td>3546421</td>\n",
       "      <td>1.41</td>\n",
       "      <td>49304</td>\n",
       "      <td>35</td>\n",
       "      <td>101000</td>\n",
       "      <td>-39858</td>\n",
       "      <td>4.1</td>\n",
       "      <td>19</td>\n",
       "      <td>63.0</td>\n",
       "      <td>0.05</td>\n",
       "      <td>Africal</td>\n",
       "    </tr>\n",
       "    <tr>\n",
       "      <th>94</th>\n",
       "      <td>Ethiopia</td>\n",
       "      <td>114963588</td>\n",
       "      <td>2.57</td>\n",
       "      <td>2884858</td>\n",
       "      <td>115</td>\n",
       "      <td>1000000</td>\n",
       "      <td>30000</td>\n",
       "      <td>4.3</td>\n",
       "      <td>19</td>\n",
       "      <td>21.0</td>\n",
       "      <td>1.47</td>\n",
       "      <td>Africal</td>\n",
       "    </tr>\n",
       "    <tr>\n",
       "      <th>95</th>\n",
       "      <td>Burundi</td>\n",
       "      <td>11890784</td>\n",
       "      <td>3.12</td>\n",
       "      <td>360204</td>\n",
       "      <td>463</td>\n",
       "      <td>25680</td>\n",
       "      <td>2001</td>\n",
       "      <td>5.5</td>\n",
       "      <td>17</td>\n",
       "      <td>14.0</td>\n",
       "      <td>0.15</td>\n",
       "      <td>Africal</td>\n",
       "    </tr>\n",
       "    <tr>\n",
       "      <th>96</th>\n",
       "      <td>Benin</td>\n",
       "      <td>12123200</td>\n",
       "      <td>2.73</td>\n",
       "      <td>322049</td>\n",
       "      <td>108</td>\n",
       "      <td>112760</td>\n",
       "      <td>-2000</td>\n",
       "      <td>4.9</td>\n",
       "      <td>19</td>\n",
       "      <td>48.0</td>\n",
       "      <td>0.16</td>\n",
       "      <td>Africal</td>\n",
       "    </tr>\n",
       "    <tr>\n",
       "      <th>97</th>\n",
       "      <td>Tanzania</td>\n",
       "      <td>59734218</td>\n",
       "      <td>2.98</td>\n",
       "      <td>1728755</td>\n",
       "      <td>67</td>\n",
       "      <td>885800</td>\n",
       "      <td>-40076</td>\n",
       "      <td>4.9</td>\n",
       "      <td>18</td>\n",
       "      <td>37.0</td>\n",
       "      <td>0.77</td>\n",
       "      <td>Africal</td>\n",
       "    </tr>\n",
       "    <tr>\n",
       "      <th>98</th>\n",
       "      <td>Nigeria</td>\n",
       "      <td>206139589</td>\n",
       "      <td>2.58</td>\n",
       "      <td>5175990</td>\n",
       "      <td>226</td>\n",
       "      <td>910770</td>\n",
       "      <td>-60000</td>\n",
       "      <td>5.4</td>\n",
       "      <td>18</td>\n",
       "      <td>52.0</td>\n",
       "      <td>2.64</td>\n",
       "      <td>Africal</td>\n",
       "    </tr>\n",
       "    <tr>\n",
       "      <th>99</th>\n",
       "      <td>Niger</td>\n",
       "      <td>24206644</td>\n",
       "      <td>3.84</td>\n",
       "      <td>895929</td>\n",
       "      <td>19</td>\n",
       "      <td>1266700</td>\n",
       "      <td>4000</td>\n",
       "      <td>7.0</td>\n",
       "      <td>15</td>\n",
       "      <td>17.0</td>\n",
       "      <td>0.31</td>\n",
       "      <td>Africal</td>\n",
       "    </tr>\n",
       "  </tbody>\n",
       "</table>\n",
       "<p>100 rows × 12 columns</p>\n",
       "</div>"
      ],
      "text/plain": [
       "          Country/Other  Population (2020)  Yearly Change  Net Change  \\\n",
       "0             Argentina           45195774           0.93      415097   \n",
       "1             Venezuela           28435940          -0.28      -79889   \n",
       "2                Brazil          212559417           0.72     1509890   \n",
       "3               Bolivia           11673021           1.39      159921   \n",
       "4                 Chile           19116201           0.87      164163   \n",
       "5              Colombia           50882891           1.08      543448   \n",
       "6               Ecuador           17643054           1.55      269392   \n",
       "7                Guyana             786552           0.48        3786   \n",
       "8                  Peru           32971854           1.42      461401   \n",
       "9                Guinea           13132795           2.83      361549   \n",
       "10             Paraguay            7132538           1.25       87902   \n",
       "11             Suriname             586632           0.90        5260   \n",
       "12              Uruguay            3473730           0.35       11996   \n",
       "13  Antigua and Barbuda              97929           0.84         811   \n",
       "14                Aruba             106766           0.43         452   \n",
       "15              Bahamas             393244           0.97        3762   \n",
       "16             Barbados             287375           0.12         350   \n",
       "17               Belize             397628           1.86        7275   \n",
       "18               Canada           37742154           0.89      331107   \n",
       "19           Costa Rica            5094118           0.92       46557   \n",
       "20                 Cuba           11326616          -0.06       -6867   \n",
       "21              Curacao             164093           0.41         669   \n",
       "22   Dominican Republic           10847910           1.01      108952   \n",
       "23          El Salvador            6486205           0.51       32652   \n",
       "24               Greece           10423054          -0.48      -50401   \n",
       "25           Guadeloupe             400124           0.02          68   \n",
       "26            Guatemala           17915568           1.90      334096   \n",
       "27                Haiti           11402528           1.24      139451   \n",
       "28             Honduras            9904607           1.63      158490   \n",
       "29              Jamaica            2961167           0.44       12888   \n",
       "..                  ...                ...            ...         ...   \n",
       "70             Mongolia            3278290           1.65       53123   \n",
       "71              Myanmar           54409800           0.67      364380   \n",
       "72                Nepal           29136808           1.85      528098   \n",
       "73          North Korea           25778816           0.44      112655   \n",
       "74          Philippines          109581078           1.35     1464463   \n",
       "75            Singapore            5850342           0.79       46005   \n",
       "76          South Korea           51269185           0.09       43877   \n",
       "77             Thailand           69799978           0.25      174396   \n",
       "78              Vietnam           97338579           0.91      876473   \n",
       "79              Algeria           43851044           1.85      797990   \n",
       "80               Angola           32866272           3.27     1040977   \n",
       "81                 Togo            8278724           2.43      196358   \n",
       "82                Libya            6871292           1.38       93840   \n",
       "83              Liberia            5057681           2.44      120307   \n",
       "84               Angola           32866272           3.27     1040977   \n",
       "85              Tunisia           11818619           1.06      123900   \n",
       "86                Egypt          102334404           1.94     1946331   \n",
       "87           Seychelles              98347           0.62         608   \n",
       "88          South Sudan           11193725           1.19      131612   \n",
       "89                Sudan           43849260           2.42     1036022   \n",
       "90                Congo            5518087           2.56      137579   \n",
       "91             DR Congo           89561403           3.19     2770836   \n",
       "92               Uganda           45741007           3.32     1471413   \n",
       "93              Eritrea            3546421           1.41       49304   \n",
       "94             Ethiopia          114963588           2.57     2884858   \n",
       "95              Burundi           11890784           3.12      360204   \n",
       "96                Benin           12123200           2.73      322049   \n",
       "97             Tanzania           59734218           2.98     1728755   \n",
       "98              Nigeria          206139589           2.58     5175990   \n",
       "99                Niger           24206644           3.84      895929   \n",
       "\n",
       "    Density (P/KmÂ²)  Land Area (KmÂ²)  Migrants (net)  Fert. Rate  Med. Age  \\\n",
       "0                 17           2736690            4800         2.3        32   \n",
       "1                 32            882050         -653249         2.3        30   \n",
       "2                 25           8358140           21200         1.7        33   \n",
       "3                 11           1083300           -9504         2.8        26   \n",
       "4                 26            743532          111708         1.7        35   \n",
       "5                 46           1109500          204796         1.8        31   \n",
       "6                 71            248360           36400         2.4        28   \n",
       "7                  4            196850           -6000         2.5        27   \n",
       "8                 26           1280000           99069         2.3        31   \n",
       "9                 53            245720           -4000         4.7        18   \n",
       "10                18            397300          -16556         2.4        26   \n",
       "11                 4            156000           -1000         2.4        29   \n",
       "12                20            175020           -3000         2.0        36   \n",
       "13               223               440               0         2.0        34   \n",
       "14               593               180             201         1.9        41   \n",
       "15                39             10010            1000         1.8        32   \n",
       "16               668               430             -79         1.6        40   \n",
       "17                17             22810            1200         2.3        25   \n",
       "18                 4           9093510          242032         1.5        41   \n",
       "19               100             51060            4200         1.8        33   \n",
       "20               106            106440          -14400         1.6        42   \n",
       "21               370               444             515         1.8        42   \n",
       "22               225             48320          -30000         2.4        28   \n",
       "23               313             20720          -40539         2.1        28   \n",
       "24                81            128900          -16000         1.3        46   \n",
       "25               237              1690           -1440         2.2        44   \n",
       "26               167            107160           -9215         2.9        23   \n",
       "27               414             27560          -35000         3.0        24   \n",
       "28                89            111890           -6800         2.5        24   \n",
       "29               273             10830          -11332         2.0        31   \n",
       "..               ...               ...             ...         ...       ...   \n",
       "70                 2           1553560            -852         2.9        28   \n",
       "71                83            653290         -163313         2.2        29   \n",
       "72               203            143350           41710         1.9        25   \n",
       "73               214            120410           -5403         1.9        35   \n",
       "74               368            298170          -67152         2.6        26   \n",
       "75              8358               700           27028         1.2        42   \n",
       "76               527             97230           11731         1.1        44   \n",
       "77               137            510890           19444         1.5        40   \n",
       "78               314            310070          -80000         2.1        32   \n",
       "79                18           2381740          -10000         3.1        29   \n",
       "80                26           1246700            6413         5.6        17   \n",
       "81               152             54390           -2000         4.4        19   \n",
       "82                 4           1759540           -1999         2.3        29   \n",
       "83                53             96320           -5000         4.4        19   \n",
       "84                26           1246700            6413         5.6        17   \n",
       "85                76            155360           -4000         2.2        33   \n",
       "86               103            995450          -38033         3.3        25   \n",
       "87               214               460            -200         2.5        34   \n",
       "88                18            610952         -174200         4.7        19   \n",
       "89                25           1765048          -50000         4.4        20   \n",
       "90                16            341500           -4000         4.5        19   \n",
       "91                40           2267050           23861         6.0        17   \n",
       "92               229            199810          168694         5.0        17   \n",
       "93                35            101000          -39858         4.1        19   \n",
       "94               115           1000000           30000         4.3        19   \n",
       "95               463             25680            2001         5.5        17   \n",
       "96               108            112760           -2000         4.9        19   \n",
       "97                67            885800          -40076         4.9        18   \n",
       "98               226            910770          -60000         5.4        18   \n",
       "99                19           1266700            4000         7.0        15   \n",
       "\n",
       "    Urban Pop %  World Share            Area  \n",
       "0          93.0         0.58  South American  \n",
       "1           NaN         0.36  South American  \n",
       "2          88.0         2.73  South American  \n",
       "3          69.0         0.15  South American  \n",
       "4          85.0         0.25  South American  \n",
       "5          80.0         0.65  South American  \n",
       "6          63.0         0.23  South American  \n",
       "7          27.0         0.01  South American  \n",
       "8          79.0         0.42  South American  \n",
       "9          39.0         0.17  South American  \n",
       "10         62.0         0.09  South American  \n",
       "11         65.0         0.01  South American  \n",
       "12         96.0         0.04  South American  \n",
       "13         26.0         0.00  North American  \n",
       "14         44.0         0.00  North American  \n",
       "15         86.0         0.01  North American  \n",
       "16         31.0         0.00  North American  \n",
       "17         46.0         0.01  North American  \n",
       "18         81.0         0.48  North American  \n",
       "19         80.0         0.07  North American  \n",
       "20         78.0         0.15  North American  \n",
       "21         89.0         0.00  North American  \n",
       "22         85.0         0.14  North American  \n",
       "23         73.0         0.08  North American  \n",
       "24         85.0         0.13  North American  \n",
       "25          NaN         0.01  North American  \n",
       "26         52.0         0.23  North American  \n",
       "27         57.0         0.15  North American  \n",
       "28         57.0         0.13  North American  \n",
       "29         55.0         0.04  North American  \n",
       "..          ...          ...             ...  \n",
       "70         67.0         0.04           Asian  \n",
       "71         31.0         0.70           Asian  \n",
       "72         21.0         0.37           Asian  \n",
       "73         63.0         0.33           Asian  \n",
       "74         47.0         1.41           Asian  \n",
       "75          NaN         0.08           Asian  \n",
       "76         82.0         0.66           Asian  \n",
       "77         51.0         0.90           Asian  \n",
       "78         38.0         1.25           Asian  \n",
       "79         73.0         0.56         Africal  \n",
       "80         67.0         0.42         Africal  \n",
       "81         43.0         0.11         Africal  \n",
       "82         78.0         0.09         Africal  \n",
       "83         53.0         0.06         Africal  \n",
       "84         67.0         0.42         Africal  \n",
       "85         70.0         0.15         Africal  \n",
       "86         43.0         1.31         Africal  \n",
       "87         56.0         0.00         Africal  \n",
       "88         25.0         0.14         Africal  \n",
       "89         35.0         0.56         Africal  \n",
       "90         70.0         0.07         Africal  \n",
       "91         46.0         1.15         Africal  \n",
       "92         26.0         0.59         Africal  \n",
       "93         63.0         0.05         Africal  \n",
       "94         21.0         1.47         Africal  \n",
       "95         14.0         0.15         Africal  \n",
       "96         48.0         0.16         Africal  \n",
       "97         37.0         0.77         Africal  \n",
       "98         52.0         2.64         Africal  \n",
       "99         17.0         0.31         Africal  \n",
       "\n",
       "[100 rows x 12 columns]"
      ]
     },
     "execution_count": 236,
     "metadata": {},
     "output_type": "execute_result"
    }
   ],
   "source": [
    "import pandas as pd\n",
    "data = pd.read_csv('Book1.csv')\n",
    "data1=data\n",
    "data1"
   ]
  },
  {
   "cell_type": "markdown",
   "id": "c1d49623",
   "metadata": {
    "slideshow": {
     "slide_type": "slide"
    }
   },
   "source": [
    "### Bước 2 : Thống kê mô tả"
   ]
  },
  {
   "cell_type": "code",
   "execution_count": 237,
   "id": "03fa20d2",
   "metadata": {},
   "outputs": [
    {
     "name": "stdout",
     "output_type": "stream",
     "text": [
      "Europe\n",
      "        Density (P/KmÂ²)  Migrants (net)   Med. Age\n",
      "Mean          116.700000     64611.15000  41.800000\n",
      "Median         99.500000     14600.00000  42.000000\n",
      "Std            96.984046    132746.92855   3.302312\n",
      "\n",
      "\n"
     ]
    }
   ],
   "source": [
    "result_Europe=data.loc[data['Area']=='Europe']\n",
    "lst_Europe=[]\n",
    "print(\"Europe\")\n",
    "mean_Europe=result_Europe.mean()\n",
    "median_Europe=result_Europe.median()\n",
    "std_Europe=result_Europe.std()\n",
    "lst_Europe.append(mean_Europe)\n",
    "lst_Europe.append(median_Europe)\n",
    "lst_Europe.append(std_Europe)\n",
    "df = pd.DataFrame(lst_Europe,columns=['Density (P/KmÂ²)','Migrants (net)','Med. Age'])\n",
    "df.index=['Mean','Median','Std']\n",
    "print(df)\n",
    "print(\"\\n\")"
   ]
  },
  {
   "cell_type": "code",
   "execution_count": 238,
   "id": "0861c340",
   "metadata": {
    "slideshow": {
     "slide_type": "slide"
    }
   },
   "outputs": [
    {
     "name": "stdout",
     "output_type": "stream",
     "text": [
      "Africal\n",
      "        Density (P/KmÂ²)  Migrants (net)   Med. Age\n",
      "Mean           96.809524    -9046.857143  20.904762\n",
      "Median         53.000000    -2000.000000  19.000000\n",
      "Std           110.595488    58977.301998   5.566909\n",
      "\n",
      "\n"
     ]
    }
   ],
   "source": [
    "result_Africa=data.loc[data['Area']=='Africal']\n",
    "lst_Africa=[]\n",
    "print(\"Africal\")\n",
    "mean_Africa=result_Africa.mean()\n",
    "median_Africa=result_Africa.median()\n",
    "std_Africa=result_Africa.std()\n",
    "lst_Africa.append(mean_Africa)\n",
    "lst_Africa.append(median_Africa)\n",
    "lst_Africa.append(std_Africa)\n",
    "df = pd.DataFrame(lst_Africa,columns=['Density (P/KmÂ²)','Migrants (net)','Med. Age'])\n",
    "df.index=['Mean','Median','Std']\n",
    "print(df)\n",
    "print(\"\\n\")"
   ]
  },
  {
   "cell_type": "code",
   "execution_count": 239,
   "id": "119341b7",
   "metadata": {
    "slideshow": {
     "slide_type": "slide"
    }
   },
   "outputs": [
    {
     "name": "stdout",
     "output_type": "stream",
     "text": [
      "North American\n",
      "        Density (P/KmÂ²)  Migrants (net)   Med. Age\n",
      "Mean           96.809524    -9046.857143  20.904762\n",
      "Median         53.000000    -2000.000000  19.000000\n",
      "Std           110.595488    58977.301998   5.566909\n",
      "\n",
      "\n"
     ]
    }
   ],
   "source": [
    "result_NorthAmerican=data.loc[data['Area']=='North American']\n",
    "lst_NorthAmerican=[]\n",
    "print(\"North American\")\n",
    "mean_NorthAmerican=result_NorthAmerican.mean()\n",
    "median_NorthAmerican=result_NorthAmerican.median()\n",
    "std_NorthAmerican=result_NorthAmerican.std()\n",
    "lst_NorthAmerican.append(mean_NorthAmerican)\n",
    "lst_NorthAmerican.append(median_NorthAmerican)\n",
    "lst_NorthAmerican.append(std_NorthAmerican)\n",
    "df = pd.DataFrame(lst_Africa,columns=['Density (P/KmÂ²)','Migrants (net)','Med. Age'])\n",
    "df.index=['Mean','Median','Std']\n",
    "print(df)\n",
    "print(\"\\n\")"
   ]
  },
  {
   "cell_type": "code",
   "execution_count": 240,
   "id": "0d80849f",
   "metadata": {
    "slideshow": {
     "slide_type": "slide"
    }
   },
   "outputs": [
    {
     "name": "stdout",
     "output_type": "stream",
     "text": [
      "South American\n",
      "        Density (P/KmÂ²)  Migrants (net)   Med. Age\n",
      "Mean           96.809524    -9046.857143  20.904762\n",
      "Median         53.000000    -2000.000000  19.000000\n",
      "Std           110.595488    58977.301998   5.566909\n",
      "\n",
      "\n"
     ]
    }
   ],
   "source": [
    "result_SouthAmerican=data.loc[data['Area']=='South American']\n",
    "lst_SouthAmerican=[]\n",
    "print(\"South American\")\n",
    "mean_SouthAmerican=result_SouthAmerican.mean()\n",
    "median_SouthAmerican=result_SouthAmerican.median()\n",
    "std_SouthAmerican=result_SouthAmerican.std()\n",
    "lst_SouthAmerican.append(mean_SouthAmerican)\n",
    "lst_SouthAmerican.append(median_SouthAmerican)\n",
    "lst_SouthAmerican.append(std_SouthAmerican)\n",
    "df = pd.DataFrame(lst_Africa,columns=['Density (P/KmÂ²)','Migrants (net)','Med. Age'])\n",
    "df.index=['Mean','Median','Std']\n",
    "print(df)\n",
    "print(\"\\n\")"
   ]
  },
  {
   "cell_type": "code",
   "execution_count": 242,
   "id": "00e97263",
   "metadata": {
    "slideshow": {
     "slide_type": "slide"
    }
   },
   "outputs": [
    {
     "name": "stdout",
     "output_type": "stream",
     "text": [
      "Asian\n",
      "        Density (P/KmÂ²)  Migrants (net)   Med. Age\n",
      "Mean           96.809524    -9046.857143  20.904762\n",
      "Median         53.000000    -2000.000000  19.000000\n",
      "Std           110.595488    58977.301998   5.566909\n",
      "\n",
      "\n"
     ]
    }
   ],
   "source": [
    "result_Asian=data.loc[data['Area']=='Asian']\n",
    "# result_Asian\n",
    "lst_Asian=[]\n",
    "print(\"Asian\")\n",
    "mean_Asian=result_Asian.mean()\n",
    "median_Asian=result_Asian.median()\n",
    "std_Asian=result_Asian.std()\n",
    "lst_Asian.append(mean_Asian)\n",
    "lst_Asian.append(median_Asian)\n",
    "lst_Asian.append(std_Asian)\n",
    "df = pd.DataFrame(lst_Africa,columns=['Density (P/KmÂ²)','Migrants (net)','Med. Age'])\n",
    "df.index=['Mean','Median','Std']\n",
    "print(df)\n",
    "print(\"\\n\")"
   ]
  },
  {
   "cell_type": "markdown",
   "id": "84d5a1f8",
   "metadata": {
    "slideshow": {
     "slide_type": "slide"
    }
   },
   "source": [
    "## Bước 3. Vẽ biểu đồ"
   ]
  },
  {
   "cell_type": "code",
   "execution_count": 260,
   "id": "c266ee3d",
   "metadata": {
    "slideshow": {
     "slide_type": "slide"
    }
   },
   "outputs": [],
   "source": [
    "def chart_Migrants(data,res):\n",
    "    dt_africal = data.loc[data['Area']=='Africal']\n",
    "    dt_asian = data.loc[data['Area']=='Asian']\n",
    "    dt_europe = data.loc[data['Area']=='Europe']\n",
    "    dt_north_american = data.loc[data['Area']=='North American']\n",
    "    dt_south_american = data.loc[data['Area']=='South American']\n",
    "    data1 = [dt_africal[res], dt_asian[res], dt_europe[res], dt_north_american[res], dt_south_american[res]]\n",
    "    fig, (ax1) = plt.subplots(nrows = 1, ncols = 1, figsize = (10,10))\n",
    "    ax1.boxplot(data1, notch=False, meanline=True,showmeans=True,widths=0.3,patch_artist = True );\n",
    "    ax1.grid(True)\n",
    "    ax1.set_xticklabels([\"Africal\", \"Asian\", \"Europe\", \"North American\", \"South American\"], fontsize = 10, fontweight = \"bold\")\n",
    "    fig.subplots_adjust(\n",
    "        hspace = 0.15,\n",
    "        top = 0.94,\n",
    "        right = 0.9\n",
    "    );\n",
    "    ax1.set_ylim(-750000,1000000);\n",
    "    fig.suptitle(\"ANALYSIS OF THE NUMBER OF EMPLOYEES OF REGIONS IN THE WORLD\",\n",
    "                 fontsize = 12, color = \"green\", fontweight = \"bold\")\n",
    "    ax1.set_xlabel(\"AREA\", fontsize = 14, fontstyle = \"italic\", color = \"red\")\n",
    "    ax1.set_ylabel(\"MIGRANTS (per)\", fontsize = 14, fontstyle = \"italic\", color = \"red\")\n"
   ]
  },
  {
   "cell_type": "code",
   "execution_count": 261,
   "id": "2b1d1c9a",
   "metadata": {
    "slideshow": {
     "slide_type": "slide"
    }
   },
   "outputs": [
    {
     "data": {
      "image/png": "[encoded data removed]",
      "text/plain": [
       "<Figure size 720x720 with 1 Axes>"
      ]
     },
     "metadata": {},
     "output_type": "display_data"
    }
   ],
   "source": [
    "chart_Migrants(data,'Migrants (net)')"
   ]
  },
  {
   "cell_type": "code",
   "execution_count": 43,
   "id": "de170f82",
   "metadata": {
    "slideshow": {
     "slide_type": "slide"
    }
   },
   "outputs": [
    {
     "data": {
      "image/png": "[encoded data removed]",
      "text/plain": [
       "<Figure size 720x720 with 1 Axes>"
      ]
     },
     "metadata": {
      "needs_background": "light"
     },
     "output_type": "display_data"
    }
   ],
   "source": [
    "import matplotlib.pyplot as plt\n",
    "import pandas as pd\n",
    "data_system=data[['Area','Migrants (net)']]\n",
    "data_system.boxplot(by='Area', grid=True, figsize=(10,10))\n",
    "plt.show()"
   ]
  },
  {
   "cell_type": "code",
   "execution_count": 44,
   "id": "f258caca",
   "metadata": {
    "slideshow": {
     "slide_type": "slide"
    }
   },
   "outputs": [
    {
     "data": {
      "image/png": "[encoded data removed]",
      "text/plain": [
       "<Figure size 720x720 with 1 Axes>"
      ]
     },
     "metadata": {
      "needs_background": "light"
     },
     "output_type": "display_data"
    }
   ],
   "source": [
    "data_system=data[['Area','Fert. Rate']]\n",
    "data_system.boxplot(by='Area', grid=True, figsize=(10,10))\n",
    "plt.show()"
   ]
  },
  {
   "cell_type": "code",
   "execution_count": 45,
   "id": "ccd23424",
   "metadata": {
    "slideshow": {
     "slide_type": "slide"
    }
   },
   "outputs": [
    {
     "data": {
      "image/png": "[encoded data removed]",
      "text/plain": [
       "<Figure size 576x720 with 1 Axes>"
      ]
     },
     "metadata": {
      "needs_background": "light"
     },
     "output_type": "display_data"
    }
   ],
   "source": [
    "data_system=data[['Area','Density (P/KmÂ²)']]\n",
    "data_system.boxplot(by='Area', grid=True, figsize=(8,10))\n",
    "plt.show()"
   ]
  },
  {
   "cell_type": "code",
   "execution_count": 51,
   "id": "237496b1",
   "metadata": {
    "slideshow": {
     "slide_type": "slide"
    }
   },
   "outputs": [],
   "source": [
    "import numpy as np\n",
    "import scipy.stats as st\n",
    "\n",
    "def Value_CI(list):\n",
    "    array = np.asarray(list)\n",
    "    confident_interval=st.norm.interval(alpha=0.95, loc=np.mean(array), scale=st.sem(array))\n",
    "    print(confident_interval)"
   ]
  },
  {
   "cell_type": "code",
   "execution_count": 52,
   "id": "bf78e305",
   "metadata": {},
   "outputs": [],
   "source": [
    "import numpy as np\n",
    "\n",
    "def Chart_CI(list):\n",
    "    array = np.asarray(list)\n",
    "    res= array.ravel()\n",
    "    sample_size=20\n",
    "    sample_means=[]\n",
    "    intervals=[]\n",
    "    for sample in range(1000):\n",
    "        sample=np.random.choice(a=res,size=sample_size)\n",
    "        sample_mean=sample.mean()\n",
    "        sample_means.append(sample_mean)\n",
    "        x,y=st.norm.interval(alpha=0.95, loc=sample_mean, scale=st.sem(sample))\n",
    "        intervals.append(x)\n",
    "        intervals.append(y)\n",
    "\n",
    "    plt.figure(figsize=(10,9))\n",
    "    plt.hist(sample_means)\n",
    "    plt.show()"
   ]
  },
  {
   "cell_type": "markdown",
   "id": "56ea4a4b",
   "metadata": {
    "slideshow": {
     "slide_type": "slide"
    }
   },
   "source": [
    "### Bước 4 : Khoảng tin cậy"
   ]
  },
  {
   "cell_type": "markdown",
   "id": "f0483de7",
   "metadata": {
    "slideshow": {
     "slide_type": "slide"
    }
   },
   "source": [
    "#### Mật độ dân số khu vực Châu Âu và Châu Phi"
   ]
  },
  {
   "cell_type": "markdown",
   "id": "9c53d447",
   "metadata": {},
   "source": [
    "<img src=http://geogriffith.weebly.com/uploads/5/0/5/9/5059999/9618706_orig.png width=\"500\">                                         \n",
    "                                            \n",
    "                                            Mật độ dân số Châu Phi năm 2011"
   ]
  },
  {
   "cell_type": "markdown",
   "id": "83fb89ae",
   "metadata": {
    "slideshow": {
     "slide_type": "slide"
    }
   },
   "source": [
    "<img src=https://en.populationdata.net/wp-content/uploads/Europe-densite-2011.jpg width=\"500\"> \n",
    "                                            \n",
    "                                            \n",
    "                                            Mật độ dân số Châu Âu năm 2011"
   ]
  },
  {
   "cell_type": "markdown",
   "id": "4dea734f",
   "metadata": {
    "slideshow": {
     "slide_type": "slide"
    }
   },
   "source": [
    "#### Khoảng tin cậy cho H0"
   ]
  },
  {
   "cell_type": "code",
   "execution_count": 53,
   "id": "02ed508e",
   "metadata": {},
   "outputs": [],
   "source": [
    "result_europe_Dens=data.loc[data['Area']=='Europe']\n",
    "result_africa_Dens=data.loc[data['Area']=='Africal']\n",
    "\n",
    "lst_europe_Density=result_europe_Dens['Density (P/KmÂ²)']\n",
    "lst_europe_Density=lst_europe_Density.tolist()\n",
    "\n",
    "lst_africa_Density=result_africa_Dens['Density (P/KmÂ²)']\n",
    "lst_africa_Density=lst_africa_Density.tolist()"
   ]
  },
  {
   "cell_type": "code",
   "execution_count": 54,
   "id": "4d9712dd",
   "metadata": {
    "slideshow": {
     "slide_type": "slide"
    }
   },
   "outputs": [
    {
     "name": "stdout",
     "output_type": "stream",
     "text": [
      "(74.19564861112971, 159.2043513888703)\n"
     ]
    }
   ],
   "source": [
    "Value_CI(lst_europe_Density)"
   ]
  },
  {
   "cell_type": "code",
   "execution_count": 55,
   "id": "7e0873b4",
   "metadata": {},
   "outputs": [
    {
     "name": "stdout",
     "output_type": "stream",
     "text": [
      "(49.507921562348436, 144.1111260566992)\n"
     ]
    }
   ],
   "source": [
    "Value_CI(lst_africa_Density)"
   ]
  },
  {
   "cell_type": "code",
   "execution_count": 56,
   "id": "aa667694",
   "metadata": {
    "slideshow": {
     "slide_type": "slide"
    }
   },
   "outputs": [
    {
     "data": {
      "image/png": "[encoded data removed]",
      "text/plain": [
       "<Figure size 720x648 with 1 Axes>"
      ]
     },
     "metadata": {
      "needs_background": "light"
     },
     "output_type": "display_data"
    }
   ],
   "source": [
    "Chart_CI(lst_africa_Density)"
   ]
  },
  {
   "cell_type": "code",
   "execution_count": 57,
   "id": "921a7fe4",
   "metadata": {
    "slideshow": {
     "slide_type": "slide"
    }
   },
   "outputs": [
    {
     "data": {
      "image/png": "[encoded data removed]",
      "text/plain": [
       "<Figure size 720x648 with 1 Axes>"
      ]
     },
     "metadata": {
      "needs_background": "light"
     },
     "output_type": "display_data"
    }
   ],
   "source": [
    "Chart_CI(lst_europe_Density)"
   ]
  },
  {
   "cell_type": "markdown",
   "id": "2e0208c4",
   "metadata": {
    "slideshow": {
     "slide_type": "slide"
    }
   },
   "source": [
    "#### Nhận xét và kết luận "
   ]
  },
  {
   "cell_type": "markdown",
   "id": "d4fbed35",
   "metadata": {},
   "source": [
    "Với ước tính trung bình về mật độ dân số mà ta đã tính với biểu đồ về khoảng tin cậy thì ta tin rằng 95% mật độ dân số ở hai khu vực trên là:\n",
    "- Châu Phi là : (50,144)người / km2\n",
    "- Châu Âu là : (74,159) người / km2"
   ]
  },
  {
   "cell_type": "markdown",
   "id": "36612327",
   "metadata": {
    "slideshow": {
     "slide_type": "slide"
    }
   },
   "source": [
    "#### Số người di cư của khu vực Bắc mỹ và khu vực Nam mỹ"
   ]
  },
  {
   "cell_type": "markdown",
   "id": "8c0e69e3",
   "metadata": {
    "slideshow": {
     "slide_type": "-"
    }
   },
   "source": [
    "<img src=https://www.vovankienthuc.com/storage/pagedata/100447/img/upload/sukien/di-cu-1.jpg width=\"800\"> \n",
    "\n",
    "                                                  Lượng người di cư"
   ]
  },
  {
   "cell_type": "markdown",
   "id": "56b3db15",
   "metadata": {},
   "source": [
    "<img src=https://image.infographics.vn/media//Graphic/Org/2018/11/19/2018-11-19-r-uk-di-cu-chet-h84.jpg width=\"800\"> \n",
    "\n",
    "\n",
    "                                             Tỉ lệ số người tử vong khi di cư"
   ]
  },
  {
   "cell_type": "markdown",
   "id": "b27eafba",
   "metadata": {
    "slideshow": {
     "slide_type": "slide"
    }
   },
   "source": [
    "#### Khoảng tin cậy cho H1"
   ]
  },
  {
   "cell_type": "code",
   "execution_count": 58,
   "id": "b82c7357",
   "metadata": {},
   "outputs": [],
   "source": [
    "result_North_Mig=data.loc[data['Area']=='North American']\n",
    "result_South_Mig=data.loc[data['Area']=='South American']\n",
    "# result_europe\n",
    "lst_North_Mig=result_North_Mig['Migrants (net)']\n",
    "lst_North_Mig=lst_North_Mig.tolist()\n",
    "\n",
    "lst_South_Mig=result_South_Mig['Migrants (net)']\n",
    "lst_South_Mig=lst_South_Mig.tolist()"
   ]
  },
  {
   "cell_type": "code",
   "execution_count": 59,
   "id": "373b1e5a",
   "metadata": {
    "slideshow": {
     "slide_type": "slide"
    }
   },
   "outputs": [
    {
     "name": "stdout",
     "output_type": "stream",
     "text": [
      "(-41884.51077511846, 108721.43385204155)\n"
     ]
    }
   ],
   "source": [
    "Value_CI(lst_North_Mig)"
   ]
  },
  {
   "cell_type": "code",
   "execution_count": 60,
   "id": "a961fbe6",
   "metadata": {},
   "outputs": [
    {
     "name": "stdout",
     "output_type": "stream",
     "text": [
      "(-126368.27136351181, 93239.65597889644)\n"
     ]
    }
   ],
   "source": [
    "Value_CI(lst_South_Mig)"
   ]
  },
  {
   "cell_type": "code",
   "execution_count": 61,
   "id": "ba50d288",
   "metadata": {
    "slideshow": {
     "slide_type": "slide"
    }
   },
   "outputs": [
    {
     "data": {
      "image/png": "[encoded data removed]",
      "text/plain": [
       "<Figure size 720x648 with 1 Axes>"
      ]
     },
     "metadata": {
      "needs_background": "light"
     },
     "output_type": "display_data"
    }
   ],
   "source": [
    "Chart_CI(lst_North_Mig)"
   ]
  },
  {
   "cell_type": "code",
   "execution_count": 62,
   "id": "627eea6c",
   "metadata": {
    "slideshow": {
     "slide_type": "slide"
    }
   },
   "outputs": [
    {
     "data": {
      "image/png": "[encoded data removed]",
      "text/plain": [
       "<Figure size 720x648 with 1 Axes>"
      ]
     },
     "metadata": {
      "needs_background": "light"
     },
     "output_type": "display_data"
    }
   ],
   "source": [
    "Chart_CI(lst_South_Mig)"
   ]
  },
  {
   "cell_type": "markdown",
   "id": "fff07b36",
   "metadata": {
    "slideshow": {
     "slide_type": "slide"
    }
   },
   "source": [
    "#### Nhận xét và kết luận "
   ]
  },
  {
   "cell_type": "markdown",
   "id": "fcd1f56e",
   "metadata": {},
   "source": [
    "Với ước tính trung bình số người di cư mà ta đã tính với biểu đồ về khoảng tin cậy thì ta tin rằng 95% tổng số người di cư ở hai khu vực trên là:\n",
    "\n",
    "- Bắc Mỹ là : (-41885,108721) người \n",
    "- Nam Mỹ là : (-126368,93239) người "
   ]
  },
  {
   "cell_type": "markdown",
   "id": "d37078be",
   "metadata": {
    "slideshow": {
     "slide_type": "slide"
    }
   },
   "source": [
    "#### Biểu đồ thể hiện tỉ lệ sinh Châu Âu và Châu Á"
   ]
  },
  {
   "cell_type": "markdown",
   "id": "61c841b5",
   "metadata": {},
   "source": [
    "<img src=https://landgeistdotcom.files.wordpress.com/2022/01/asia-fertility-rate.png width=\"700\"> \n",
    "\n",
    "\n",
    "                                                Tỉ lệ sinh Châu Á"
   ]
  },
  {
   "cell_type": "markdown",
   "id": "3a1d60f2",
   "metadata": {
    "slideshow": {
     "slide_type": "slide"
    }
   },
   "source": [
    "<img src=https://landgeistdotcom.files.wordpress.com/2022/02/europe-fertility-rate-1.png width=\"700\"> \n",
    "\n",
    "\n",
    "                                                Tỉ lệ sinh Châu Âu"
   ]
  },
  {
   "cell_type": "markdown",
   "id": "71ba2d8c",
   "metadata": {
    "slideshow": {
     "slide_type": "slide"
    }
   },
   "source": [
    "#### Khoảng tin cậy cho H2 : Tỉ lệ sinh sản Châu Á lớn hơn Châu Âu"
   ]
  },
  {
   "cell_type": "code",
   "execution_count": 63,
   "id": "dd95b261",
   "metadata": {},
   "outputs": [],
   "source": [
    "result_Asian=data.loc[data['Area']=='Asian']\n",
    "result_Europe=data.loc[data['Area']=='Europe']\n",
    "# result_europe\n",
    "lst_Asian_Fert=result_Asian['Fert. Rate']\n",
    "lst_Asian_Fert=lst_Asian_Fert.tolist()\n",
    "\n",
    "lst_Europe_Fert=result_Europe['Fert. Rate']\n",
    "lst_Europe_Fert=lst_Europe_Fert.tolist()"
   ]
  },
  {
   "cell_type": "code",
   "execution_count": 64,
   "id": "a1c2a841",
   "metadata": {
    "slideshow": {
     "slide_type": "slide"
    }
   },
   "outputs": [
    {
     "name": "stdout",
     "output_type": "stream",
     "text": [
      "(1.8812191229586614, 2.4387808770413386)\n"
     ]
    }
   ],
   "source": [
    "Value_CI(lst_Asian_Fert)"
   ]
  },
  {
   "cell_type": "code",
   "execution_count": 65,
   "id": "5f1d0628",
   "metadata": {},
   "outputs": [
    {
     "name": "stdout",
     "output_type": "stream",
     "text": [
      "(1.509124566810311, 1.6808754331896893)\n"
     ]
    }
   ],
   "source": [
    "Value_CI(lst_Europe_Fert)"
   ]
  },
  {
   "cell_type": "code",
   "execution_count": 66,
   "id": "a7e2aa34",
   "metadata": {
    "slideshow": {
     "slide_type": "slide"
    }
   },
   "outputs": [
    {
     "data": {
      "image/png": "[encoded data removed]",
      "text/plain": [
       "<Figure size 720x648 with 1 Axes>"
      ]
     },
     "metadata": {
      "needs_background": "light"
     },
     "output_type": "display_data"
    }
   ],
   "source": [
    "Chart_CI(lst_Asian_Fert)"
   ]
  },
  {
   "cell_type": "code",
   "execution_count": 67,
   "id": "e16a8e29",
   "metadata": {
    "slideshow": {
     "slide_type": "slide"
    }
   },
   "outputs": [
    {
     "data": {
      "image/png": "[encoded data removed]",
      "text/plain": [
       "<Figure size 720x648 with 1 Axes>"
      ]
     },
     "metadata": {
      "needs_background": "light"
     },
     "output_type": "display_data"
    }
   ],
   "source": [
    "Chart_CI(lst_Europe_Fert)"
   ]
  },
  {
   "cell_type": "markdown",
   "id": "a77d8236",
   "metadata": {
    "slideshow": {
     "slide_type": "slide"
    }
   },
   "source": [
    "#### Nhận xét và kết luận "
   ]
  },
  {
   "cell_type": "markdown",
   "id": "33db3d17",
   "metadata": {},
   "source": [
    "Với ước tính trung bình tỷ lệ sinh sản mà ta đã tính với biểu đồ về khoảng tin cậy thì ta tin rằng 95% tỷ lệ sinh sản ở hai khu vực trên là:\n",
    "- Châu Á là : (1.8812191229586614, 2.4387808770413386) % \n",
    "- Châu Âu là : (1.509124566810311, 1.6808754331896893) % "
   ]
  },
  {
   "cell_type": "markdown",
   "id": "f4033887",
   "metadata": {
    "slideshow": {
     "slide_type": "slide"
    }
   },
   "source": [
    "### Bước 5 : Kiểm định ý nghĩa thống kê"
   ]
  },
  {
   "cell_type": "code",
   "execution_count": 77,
   "id": "dccdd141",
   "metadata": {},
   "outputs": [],
   "source": [
    "from scipy.stats import stats\n",
    "def getP_Value(list1,list2):\n",
    "    res = stats.ttest_ind(list1, list2, \n",
    "                      equal_var=True)\n",
    "    display(res)"
   ]
  },
  {
   "cell_type": "markdown",
   "id": "c9592638",
   "metadata": {
    "slideshow": {
     "slide_type": "slide"
    }
   },
   "source": [
    "#### H0"
   ]
  },
  {
   "cell_type": "code",
   "execution_count": 78,
   "id": "6c1da28f",
   "metadata": {},
   "outputs": [
    {
     "data": {
      "text/plain": [
       "Ttest_indResult(statistic=0.6110346469806199, pvalue=0.5447217939846265)"
      ]
     },
     "metadata": {},
     "output_type": "display_data"
    }
   ],
   "source": [
    "getP_Value(lst_europe_Density,lst_africa_Density)"
   ]
  },
  {
   "cell_type": "markdown",
   "id": "205394a6",
   "metadata": {},
   "source": [
    "### Kết luận :"
   ]
  },
  {
   "cell_type": "markdown",
   "id": "4a748f39",
   "metadata": {},
   "source": [
    "- Qua kiểm định giả thuyết với mật độ dân số ở khu vực châu Âu và khu vực châu Phi, ta có giả thuyết ban đầu H0: mật độ dân số \n",
    "khu vực châu Phi lớn hơn ở châu Âu là sai, điều này phù hợp với khoảng tin cậy đã tính ở trước đó. Từ đó, chúng ta có thể kết \n",
    "luận rằng mật độ dân số ở khu vực châu Âu lớn hơn châu Phi"
   ]
  },
  {
   "cell_type": "markdown",
   "id": "f42fa928",
   "metadata": {
    "slideshow": {
     "slide_type": "slide"
    }
   },
   "source": [
    "#### H1"
   ]
  },
  {
   "cell_type": "code",
   "execution_count": 79,
   "id": "a7fe92d4",
   "metadata": {},
   "outputs": [
    {
     "data": {
      "text/plain": [
       "Ttest_indResult(statistic=0.743524584027383, pvalue=0.4618597065911878)"
      ]
     },
     "metadata": {},
     "output_type": "display_data"
    }
   ],
   "source": [
    "getP_Value(lst_North_Mig,lst_South_Mig)"
   ]
  },
  {
   "cell_type": "markdown",
   "id": "7d5583d3",
   "metadata": {},
   "source": [
    "### Kết luận :"
   ]
  },
  {
   "cell_type": "markdown",
   "id": "6a760b22",
   "metadata": {},
   "source": [
    "- Qua kiểm định giả thuyết với tổng số người di cư ở khu vực Bắc Mỹ và khu vực Nam Mỹ, ta có giả thuyết ban đầu H0: tổng số người \n",
    "di cư ở khu vực Bắc Mỹ lớn hơn khu vực Nam Mỹ là sai, điều này phù hợp với khoảng tin cậy đã tính ở trước đó. Từ đó, chúng ta có\n",
    "thể kết luận rằng tổng số người di cư ở khu vực Nam Mỹ lớn hơn khu vực Nam Mỹ."
   ]
  },
  {
   "cell_type": "markdown",
   "id": "fd8b0f06",
   "metadata": {
    "slideshow": {
     "slide_type": "slide"
    }
   },
   "source": [
    "#### H2"
   ]
  },
  {
   "cell_type": "code",
   "execution_count": 80,
   "id": "740649e4",
   "metadata": {},
   "outputs": [
    {
     "data": {
      "text/plain": [
       "Ttest_indResult(statistic=3.796196492689467, pvalue=0.0005143697087888246)"
      ]
     },
     "metadata": {},
     "output_type": "display_data"
    }
   ],
   "source": [
    "getP_Value(lst_Asian_Fert,lst_Europe_Fert)"
   ]
  },
  {
   "cell_type": "markdown",
   "id": "9c62fbf4",
   "metadata": {},
   "source": [
    "### Kết luận :"
   ]
  },
  {
   "cell_type": "markdown",
   "id": "2eaa42b0",
   "metadata": {},
   "source": [
    "- Qua kiểm định giả thuyết với tỷ lệ sinh sản ở khu vực châu Á và khu vực châu Âu, ta có giả thuyết ban đầu H0: tỷ lệ sinh sản ở\n",
    "khu vực châu Á lớn hơn khu vực châu Âu là đúng, điều này phù hợp với khoảng tin cậy đã tính ở trước đó. Từ đó, ta có thể kết luận \n",
    "rằng tỷ lệ sinh sản ở khu vực châu Á lớn hơn khu vực châu Âu."
   ]
  }
 ],
 "metadata": {
  "celltoolbar": "Slideshow",
  "kernelspec": {
   "display_name": "Python 3 (ipykernel)",
   "language": "python",
   "name": "python3"
  },
  "language_info": {
   "codemirror_mode": {
    "name": "ipython",
    "version": 3
   },
   "file_extension": ".py",
   "mimetype": "text/x-python",
   "name": "python",
   "nbconvert_exporter": "python",
   "pygments_lexer": "ipython3",
   "version": "3.9.12"
  }
 },
 "nbformat": 4,
 "nbformat_minor": 5
}
